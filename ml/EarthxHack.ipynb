{
 "cells": [
  {
   "cell_type": "code",
   "execution_count": 50,
   "metadata": {},
   "outputs": [],
   "source": [
    "from __future__ import absolute_import, division, print_function, unicode_literals\n",
    "\n",
    "import matplotlib.pyplot as plt\n",
    "import numpy as np\n",
    "import pandas as pd\n",
    "import seaborn as sns"
   ]
  },
  {
   "cell_type": "code",
   "execution_count": 51,
   "metadata": {},
   "outputs": [],
   "source": [
    "import tensorflow as tf\n",
    "from tensorflow import keras\n",
    "from tensorflow.keras import layers"
   ]
  },
  {
   "cell_type": "code",
   "execution_count": 121,
   "metadata": {},
   "outputs": [],
   "source": [
    "data = pd.read_csv('us-states.csv')"
   ]
  },
  {
   "cell_type": "code",
   "execution_count": 122,
   "metadata": {},
   "outputs": [
    {
     "data": {
      "text/html": [
       "<div>\n",
       "<style scoped>\n",
       "    .dataframe tbody tr th:only-of-type {\n",
       "        vertical-align: middle;\n",
       "    }\n",
       "\n",
       "    .dataframe tbody tr th {\n",
       "        vertical-align: top;\n",
       "    }\n",
       "\n",
       "    .dataframe thead th {\n",
       "        text-align: right;\n",
       "    }\n",
       "</style>\n",
       "<table border=\"1\" class=\"dataframe\">\n",
       "  <thead>\n",
       "    <tr style=\"text-align: right;\">\n",
       "      <th></th>\n",
       "      <th>date</th>\n",
       "      <th>state</th>\n",
       "      <th>fips</th>\n",
       "      <th>cases</th>\n",
       "      <th>deaths</th>\n",
       "    </tr>\n",
       "  </thead>\n",
       "  <tbody>\n",
       "    <tr>\n",
       "      <th>0</th>\n",
       "      <td>2020-01-21</td>\n",
       "      <td>Washington</td>\n",
       "      <td>53</td>\n",
       "      <td>1</td>\n",
       "      <td>0</td>\n",
       "    </tr>\n",
       "    <tr>\n",
       "      <th>1</th>\n",
       "      <td>2020-01-22</td>\n",
       "      <td>Washington</td>\n",
       "      <td>53</td>\n",
       "      <td>1</td>\n",
       "      <td>0</td>\n",
       "    </tr>\n",
       "    <tr>\n",
       "      <th>2</th>\n",
       "      <td>2020-01-23</td>\n",
       "      <td>Washington</td>\n",
       "      <td>53</td>\n",
       "      <td>1</td>\n",
       "      <td>0</td>\n",
       "    </tr>\n",
       "    <tr>\n",
       "      <th>3</th>\n",
       "      <td>2020-01-24</td>\n",
       "      <td>Illinois</td>\n",
       "      <td>17</td>\n",
       "      <td>1</td>\n",
       "      <td>0</td>\n",
       "    </tr>\n",
       "    <tr>\n",
       "      <th>4</th>\n",
       "      <td>2020-01-24</td>\n",
       "      <td>Washington</td>\n",
       "      <td>53</td>\n",
       "      <td>1</td>\n",
       "      <td>0</td>\n",
       "    </tr>\n",
       "  </tbody>\n",
       "</table>\n",
       "</div>"
      ],
      "text/plain": [
       "         date       state  fips  cases  deaths\n",
       "0  2020-01-21  Washington    53      1       0\n",
       "1  2020-01-22  Washington    53      1       0\n",
       "2  2020-01-23  Washington    53      1       0\n",
       "3  2020-01-24    Illinois    17      1       0\n",
       "4  2020-01-24  Washington    53      1       0"
      ]
     },
     "execution_count": 122,
     "metadata": {},
     "output_type": "execute_result"
    }
   ],
   "source": [
    "data.head()"
   ]
  },
  {
   "cell_type": "code",
   "execution_count": 124,
   "metadata": {},
   "outputs": [
    {
     "data": {
      "text/plain": [
       "(2889, 5)"
      ]
     },
     "execution_count": 124,
     "metadata": {},
     "output_type": "execute_result"
    }
   ],
   "source": [
    "data.shape"
   ]
  },
  {
   "cell_type": "code",
   "execution_count": 125,
   "metadata": {},
   "outputs": [],
   "source": [
    "import datetime "
   ]
  },
  {
   "cell_type": "code",
   "execution_count": 126,
   "metadata": {},
   "outputs": [
    {
     "name": "stderr",
     "output_type": "stream",
     "text": [
      "/home/justin/anaconda3/lib/python3.7/site-packages/ipykernel_launcher.py:9: SettingWithCopyWarning: \n",
      "A value is trying to be set on a copy of a slice from a DataFrame\n",
      "\n",
      "See the caveats in the documentation: https://pandas.pydata.org/pandas-docs/stable/user_guide/indexing.html#returning-a-view-versus-a-copy\n",
      "  if __name__ == '__main__':\n"
     ]
    }
   ],
   "source": [
    "#label encoder for dates\n",
    "def scrub_date(date1):\n",
    "    date_parts = date1.split('-')\n",
    "    f_date = date(int(date_parts[0]), int(date_parts[1]), int(date_parts[2]))\n",
    "    delta = f_date - date(2020, 1, 21)\n",
    "    return delta.days\n",
    "\n",
    "for i in range(len(data['date'])):\n",
    "    data['date'][i] = scrub_date(data['date'][i])"
   ]
  },
  {
   "cell_type": "code",
   "execution_count": 127,
   "metadata": {},
   "outputs": [
    {
     "name": "stderr",
     "output_type": "stream",
     "text": [
      "/home/justin/anaconda3/lib/python3.7/site-packages/ipykernel_launcher.py:9: SettingWithCopyWarning: \n",
      "A value is trying to be set on a copy of a slice from a DataFrame\n",
      "\n",
      "See the caveats in the documentation: https://pandas.pydata.org/pandas-docs/stable/user_guide/indexing.html#returning-a-view-versus-a-copy\n",
      "  if __name__ == '__main__':\n",
      "/home/justin/anaconda3/lib/python3.7/site-packages/ipykernel_launcher.py:11: SettingWithCopyWarning: \n",
      "A value is trying to be set on a copy of a slice from a DataFrame\n",
      "\n",
      "See the caveats in the documentation: https://pandas.pydata.org/pandas-docs/stable/user_guide/indexing.html#returning-a-view-versus-a-copy\n",
      "  # This is added back by InteractiveShellApp.init_path()\n"
     ]
    }
   ],
   "source": [
    "#label encoder for state\n",
    "id = 1\n",
    "state_dict = {}\n",
    "for i in range(len(data['state'])):\n",
    "    state = data['state'][i]\n",
    "    if state not in state_dict:\n",
    "        state_dict[state] = id\n",
    "        id += 1\n",
    "        data['state'][i] = state_dict[state]\n",
    "    else:\n",
    "        data['state'][i] = state_dict[state]\n",
    "        "
   ]
  },
  {
   "cell_type": "code",
   "execution_count": 128,
   "metadata": {},
   "outputs": [],
   "source": [
    "data = data.drop('fips', axis = 1)"
   ]
  },
  {
   "cell_type": "code",
   "execution_count": 129,
   "metadata": {},
   "outputs": [],
   "source": [
    "y = data.cases\n",
    "X = data.drop('cases', axis = 1)"
   ]
  },
  {
   "cell_type": "code",
   "execution_count": 130,
   "metadata": {},
   "outputs": [
    {
     "data": {
      "text/html": [
       "<div>\n",
       "<style scoped>\n",
       "    .dataframe tbody tr th:only-of-type {\n",
       "        vertical-align: middle;\n",
       "    }\n",
       "\n",
       "    .dataframe tbody tr th {\n",
       "        vertical-align: top;\n",
       "    }\n",
       "\n",
       "    .dataframe thead th {\n",
       "        text-align: right;\n",
       "    }\n",
       "</style>\n",
       "<table border=\"1\" class=\"dataframe\">\n",
       "  <thead>\n",
       "    <tr style=\"text-align: right;\">\n",
       "      <th></th>\n",
       "      <th>date</th>\n",
       "      <th>state</th>\n",
       "      <th>cases</th>\n",
       "      <th>deaths</th>\n",
       "    </tr>\n",
       "  </thead>\n",
       "  <tbody>\n",
       "    <tr>\n",
       "      <th>0</th>\n",
       "      <td>0</td>\n",
       "      <td>1</td>\n",
       "      <td>1</td>\n",
       "      <td>0</td>\n",
       "    </tr>\n",
       "    <tr>\n",
       "      <th>1</th>\n",
       "      <td>1</td>\n",
       "      <td>1</td>\n",
       "      <td>1</td>\n",
       "      <td>0</td>\n",
       "    </tr>\n",
       "    <tr>\n",
       "      <th>2</th>\n",
       "      <td>2</td>\n",
       "      <td>1</td>\n",
       "      <td>1</td>\n",
       "      <td>0</td>\n",
       "    </tr>\n",
       "    <tr>\n",
       "      <th>3</th>\n",
       "      <td>3</td>\n",
       "      <td>2</td>\n",
       "      <td>1</td>\n",
       "      <td>0</td>\n",
       "    </tr>\n",
       "    <tr>\n",
       "      <th>4</th>\n",
       "      <td>3</td>\n",
       "      <td>1</td>\n",
       "      <td>1</td>\n",
       "      <td>0</td>\n",
       "    </tr>\n",
       "    <tr>\n",
       "      <th>...</th>\n",
       "      <td>...</td>\n",
       "      <td>...</td>\n",
       "      <td>...</td>\n",
       "      <td>...</td>\n",
       "    </tr>\n",
       "    <tr>\n",
       "      <th>2884</th>\n",
       "      <td>93</td>\n",
       "      <td>33</td>\n",
       "      <td>11000</td>\n",
       "      <td>375</td>\n",
       "    </tr>\n",
       "    <tr>\n",
       "      <th>2885</th>\n",
       "      <td>93</td>\n",
       "      <td>1</td>\n",
       "      <td>12906</td>\n",
       "      <td>717</td>\n",
       "    </tr>\n",
       "    <tr>\n",
       "      <th>2886</th>\n",
       "      <td>93</td>\n",
       "      <td>54</td>\n",
       "      <td>981</td>\n",
       "      <td>31</td>\n",
       "    </tr>\n",
       "    <tr>\n",
       "      <th>2887</th>\n",
       "      <td>93</td>\n",
       "      <td>6</td>\n",
       "      <td>5052</td>\n",
       "      <td>257</td>\n",
       "    </tr>\n",
       "    <tr>\n",
       "      <th>2888</th>\n",
       "      <td>93</td>\n",
       "      <td>45</td>\n",
       "      <td>332</td>\n",
       "      <td>7</td>\n",
       "    </tr>\n",
       "  </tbody>\n",
       "</table>\n",
       "<p>2889 rows × 4 columns</p>\n",
       "</div>"
      ],
      "text/plain": [
       "     date state  cases  deaths\n",
       "0       0     1      1       0\n",
       "1       1     1      1       0\n",
       "2       2     1      1       0\n",
       "3       3     2      1       0\n",
       "4       3     1      1       0\n",
       "...   ...   ...    ...     ...\n",
       "2884   93    33  11000     375\n",
       "2885   93     1  12906     717\n",
       "2886   93    54    981      31\n",
       "2887   93     6   5052     257\n",
       "2888   93    45    332       7\n",
       "\n",
       "[2889 rows x 4 columns]"
      ]
     },
     "execution_count": 130,
     "metadata": {},
     "output_type": "execute_result"
    }
   ],
   "source": [
    "data"
   ]
  },
  {
   "cell_type": "code",
   "execution_count": 131,
   "metadata": {},
   "outputs": [],
   "source": [
    "from sklearn.model_selection import train_test_split\n",
    "\n",
    "X_train, X_valid, y_train, y_valid = train_test_split(X, y)"
   ]
  },
  {
   "cell_type": "code",
   "execution_count": 132,
   "metadata": {},
   "outputs": [],
   "source": [
    "from sklearn.ensemble import RandomForestRegressor"
   ]
  },
  {
   "cell_type": "code",
   "execution_count": 144,
   "metadata": {},
   "outputs": [
    {
     "data": {
      "text/plain": [
       "RandomForestRegressor(bootstrap=True, ccp_alpha=0.0, criterion='mse',\n",
       "                      max_depth=None, max_features='auto', max_leaf_nodes=None,\n",
       "                      max_samples=None, min_impurity_decrease=0.0,\n",
       "                      min_impurity_split=None, min_samples_leaf=1,\n",
       "                      min_samples_split=2, min_weight_fraction_leaf=0.0,\n",
       "                      n_estimators=100, n_jobs=None, oob_score=False,\n",
       "                      random_state=1, verbose=0, warm_start=False)"
      ]
     },
     "execution_count": 144,
     "metadata": {},
     "output_type": "execute_result"
    }
   ],
   "source": [
    "model = RandomForestRegressor(n_estimators = 100, random_state = 1)\n",
    "model.fit(X_train, y_train)"
   ]
  },
  {
   "cell_type": "code",
   "execution_count": 145,
   "metadata": {},
   "outputs": [],
   "source": [
    "preds = model.predict(X_valid)"
   ]
  },
  {
   "cell_type": "code",
   "execution_count": 146,
   "metadata": {},
   "outputs": [],
   "source": [
    "from sklearn.metrics import mean_absolute_error\n",
    "\n",
    "mae = mean_absolute_error(y_valid, preds)"
   ]
  },
  {
   "cell_type": "code",
   "execution_count": 147,
   "metadata": {},
   "outputs": [
    {
     "data": {
      "text/plain": [
       "554.2934439834025"
      ]
     },
     "execution_count": 147,
     "metadata": {},
     "output_type": "execute_result"
    }
   ],
   "source": [
    "mae"
   ]
  },
  {
   "cell_type": "code",
   "execution_count": 137,
   "metadata": {},
   "outputs": [
    {
     "data": {
      "text/html": [
       "<div>\n",
       "<style scoped>\n",
       "    .dataframe tbody tr th:only-of-type {\n",
       "        vertical-align: middle;\n",
       "    }\n",
       "\n",
       "    .dataframe tbody tr th {\n",
       "        vertical-align: top;\n",
       "    }\n",
       "\n",
       "    .dataframe thead th {\n",
       "        text-align: right;\n",
       "    }\n",
       "</style>\n",
       "<table border=\"1\" class=\"dataframe\">\n",
       "  <thead>\n",
       "    <tr style=\"text-align: right;\">\n",
       "      <th></th>\n",
       "      <th>cases</th>\n",
       "      <th>deaths</th>\n",
       "    </tr>\n",
       "  </thead>\n",
       "  <tbody>\n",
       "    <tr>\n",
       "      <th>count</th>\n",
       "      <td>2889.000000</td>\n",
       "      <td>2889.00000</td>\n",
       "    </tr>\n",
       "    <tr>\n",
       "      <th>mean</th>\n",
       "      <td>4734.918311</td>\n",
       "      <td>190.28972</td>\n",
       "    </tr>\n",
       "    <tr>\n",
       "      <th>std</th>\n",
       "      <td>18762.852274</td>\n",
       "      <td>967.45956</td>\n",
       "    </tr>\n",
       "    <tr>\n",
       "      <th>min</th>\n",
       "      <td>0.000000</td>\n",
       "      <td>0.00000</td>\n",
       "    </tr>\n",
       "    <tr>\n",
       "      <th>25%</th>\n",
       "      <td>19.000000</td>\n",
       "      <td>0.00000</td>\n",
       "    </tr>\n",
       "    <tr>\n",
       "      <th>50%</th>\n",
       "      <td>365.000000</td>\n",
       "      <td>6.00000</td>\n",
       "    </tr>\n",
       "    <tr>\n",
       "      <th>75%</th>\n",
       "      <td>2331.000000</td>\n",
       "      <td>63.00000</td>\n",
       "    </tr>\n",
       "    <tr>\n",
       "      <th>max</th>\n",
       "      <td>263460.000000</td>\n",
       "      <td>15740.00000</td>\n",
       "    </tr>\n",
       "  </tbody>\n",
       "</table>\n",
       "</div>"
      ],
      "text/plain": [
       "               cases       deaths\n",
       "count    2889.000000   2889.00000\n",
       "mean     4734.918311    190.28972\n",
       "std     18762.852274    967.45956\n",
       "min         0.000000      0.00000\n",
       "25%        19.000000      0.00000\n",
       "50%       365.000000      6.00000\n",
       "75%      2331.000000     63.00000\n",
       "max    263460.000000  15740.00000"
      ]
     },
     "execution_count": 137,
     "metadata": {},
     "output_type": "execute_result"
    }
   ],
   "source": [
    "data.describe()"
   ]
  },
  {
   "cell_type": "code",
   "execution_count": 155,
   "metadata": {},
   "outputs": [
    {
     "ename": "AttributeError",
     "evalue": "'RandomForestRegressor' object has no attribute 'summary'",
     "output_type": "error",
     "traceback": [
      "\u001b[0;31m---------------------------------------------------------------------------\u001b[0m",
      "\u001b[0;31mAttributeError\u001b[0m                            Traceback (most recent call last)",
      "\u001b[0;32m<ipython-input-155-c89b067c1d97>\u001b[0m in \u001b[0;36m<module>\u001b[0;34m\u001b[0m\n\u001b[1;32m     15\u001b[0m \u001b[0mtf_model\u001b[0m \u001b[0;34m=\u001b[0m \u001b[0mbuild_tf_model\u001b[0m\u001b[0;34m(\u001b[0m\u001b[0;34m)\u001b[0m\u001b[0;34m\u001b[0m\u001b[0;34m\u001b[0m\u001b[0m\n\u001b[1;32m     16\u001b[0m \u001b[0;34m\u001b[0m\u001b[0m\n\u001b[0;32m---> 17\u001b[0;31m \u001b[0mmodel\u001b[0m\u001b[0;34m.\u001b[0m\u001b[0msummary\u001b[0m\u001b[0;34m(\u001b[0m\u001b[0;34m)\u001b[0m\u001b[0;34m\u001b[0m\u001b[0;34m\u001b[0m\u001b[0m\n\u001b[0m",
      "\u001b[0;31mAttributeError\u001b[0m: 'RandomForestRegressor' object has no attribute 'summary'"
     ]
    }
   ],
   "source": [
    "def build_tf_model():\n",
    "    model = keras.Sequential([\n",
    "        layers.Dense(64, activation = 'relu', input_shape=[len(X_train.keys())]),\n",
    "        layers.Dense(64, activation = 'relu'),\n",
    "        #layers.Dense(64, activation = 'relu'),\n",
    "        layers.Dense(1)\n",
    "    ])\n",
    "    \n",
    "    optimizer = tf.keras.optimizers.RMSprop(0.001)\n",
    "    \n",
    "    model.compile(loss = 'mse', optimizer = optimizer, metrics = ['mae', 'mse'])\n",
    "    \n",
    "    return model \n",
    "\n",
    "tf_model = build_tf_model()\n",
    "\n",
    "model.summary()"
   ]
  },
  {
   "cell_type": "code",
   "execution_count": 156,
   "metadata": {},
   "outputs": [
    {
     "name": "stdout",
     "output_type": "stream",
     "text": [
      "WARNING:tensorflow:Falling back from v2 loop because of error: Failed to find data adapter that can handle input: <class 'pandas.core.frame.DataFrame'>, <class 'NoneType'>\n",
      "Train on 2166 samples\n",
      "Epoch 1/50\n",
      "2166/2166 [==============================] - 0s 194us/sample - loss: 341254499.9040 - mae: 4580.8555 - mse: 341254528.0000\n",
      "Epoch 2/50\n",
      "2166/2166 [==============================] - 0s 100us/sample - loss: 291195391.2830 - mae: 4265.3442 - mse: 291195360.0000\n",
      "Epoch 3/50\n",
      "2166/2166 [==============================] - 0s 94us/sample - loss: 230409062.0092 - mae: 3857.5068 - mse: 230409040.0000\n",
      "Epoch 4/50\n",
      "2166/2166 [==============================] - 0s 88us/sample - loss: 149631225.5734 - mae: 3318.2678 - mse: 149631248.0000\n",
      "Epoch 5/50\n",
      "2166/2166 [==============================] - 0s 111us/sample - loss: 64053908.1348 - mae: 2577.7310 - mse: 64053908.0000\n",
      "Epoch 6/50\n",
      "2166/2166 [==============================] - 0s 88us/sample - loss: 20059462.8391 - mae: 1893.5105 - mse: 20059456.0000\n",
      "Epoch 7/50\n",
      "2166/2166 [==============================] - 0s 95us/sample - loss: 16836443.9372 - mae: 1565.1006 - mse: 16836446.0000\n",
      "Epoch 8/50\n",
      "2166/2166 [==============================] - 0s 167us/sample - loss: 15093976.7643 - mae: 1304.6394 - mse: 15093976.0000\n",
      "Epoch 9/50\n",
      "2166/2166 [==============================] - 0s 98us/sample - loss: 16363705.4705 - mae: 1254.3973 - mse: 16363707.0000\n",
      "Epoch 10/50\n",
      "2166/2166 [==============================] - 0s 160us/sample - loss: 15607143.1477 - mae: 1221.6420 - mse: 15607144.0000\n",
      "Epoch 11/50\n",
      "2166/2166 [==============================] - 0s 141us/sample - loss: 16230465.3568 - mae: 1238.7930 - mse: 16230468.0000\n",
      "Epoch 12/50\n",
      "2166/2166 [==============================] - 0s 97us/sample - loss: 15875060.4654 - mae: 1224.7076 - mse: 15875060.0000\n",
      "Epoch 13/50\n",
      "2166/2166 [==============================] - 0s 111us/sample - loss: 15778546.8361 - mae: 1227.7816 - mse: 15778544.0000\n",
      "Epoch 14/50\n",
      "2166/2166 [==============================] - 0s 114us/sample - loss: 15495550.9047 - mae: 1215.8285 - mse: 15495547.0000\n",
      "Epoch 15/50\n",
      "2166/2166 [==============================] - 0s 106us/sample - loss: 15955710.5037 - mae: 1214.9261 - mse: 15955711.0000\n",
      "Epoch 16/50\n",
      "2166/2166 [==============================] - 0s 85us/sample - loss: 15312666.3153 - mae: 1208.1709 - mse: 15312668.0000\n",
      "Epoch 17/50\n",
      "2166/2166 [==============================] - 0s 111us/sample - loss: 15226406.1367 - mae: 1200.0070 - mse: 15226405.0000\n",
      "Epoch 18/50\n",
      "2166/2166 [==============================] - 0s 87us/sample - loss: 15280090.2044 - mae: 1205.8794 - mse: 15280091.0000\n",
      "Epoch 19/50\n",
      "2166/2166 [==============================] - 0s 102us/sample - loss: 14967404.6512 - mae: 1199.8093 - mse: 14967403.0000\n",
      "Epoch 20/50\n",
      "2166/2166 [==============================] - 0s 188us/sample - loss: 15272822.3119 - mae: 1206.5730 - mse: 15272819.0000\n",
      "Epoch 21/50\n",
      "2166/2166 [==============================] - 0s 121us/sample - loss: 15621542.5025 - mae: 1222.8812 - mse: 15621541.0000\n",
      "Epoch 22/50\n",
      "2166/2166 [==============================] - 0s 137us/sample - loss: 14657622.3319 - mae: 1186.4357 - mse: 14657622.0000\n",
      "Epoch 23/50\n",
      "2166/2166 [==============================] - 0s 131us/sample - loss: 15084972.4067 - mae: 1198.7803 - mse: 15084970.0000\n",
      "Epoch 24/50\n",
      "2166/2166 [==============================] - 0s 126us/sample - loss: 14772160.6434 - mae: 1190.0947 - mse: 14772161.0000\n",
      "Epoch 25/50\n",
      "2166/2166 [==============================] - 0s 132us/sample - loss: 16061914.8229 - mae: 1222.1819 - mse: 16061912.0000\n",
      "Epoch 26/50\n",
      "2166/2166 [==============================] - 0s 111us/sample - loss: 14740151.7862 - mae: 1185.5602 - mse: 14740153.0000\n",
      "Epoch 27/50\n",
      "2166/2166 [==============================] - 0s 105us/sample - loss: 14662772.9543 - mae: 1177.6763 - mse: 14662771.0000\n",
      "Epoch 28/50\n",
      "2166/2166 [==============================] - 0s 99us/sample - loss: 15105823.5048 - mae: 1197.8561 - mse: 15105825.0000\n",
      "Epoch 29/50\n",
      "2166/2166 [==============================] - 0s 114us/sample - loss: 14734638.1318 - mae: 1186.7001 - mse: 14734640.0000\n",
      "Epoch 30/50\n",
      "2166/2166 [==============================] - 0s 126us/sample - loss: 14988137.9577 - mae: 1198.3326 - mse: 14988139.0000\n",
      "Epoch 31/50\n",
      "2166/2166 [==============================] - 0s 174us/sample - loss: 14263927.2271 - mae: 1177.1165 - mse: 14263929.0000\n",
      "Epoch 32/50\n",
      "2166/2166 [==============================] - 0s 171us/sample - loss: 14442156.6078 - mae: 1188.0773 - mse: 14442156.0000\n",
      "Epoch 33/50\n",
      "2166/2166 [==============================] - 0s 74us/sample - loss: 14625985.6818 - mae: 1191.4232 - mse: 14625985.0000\n",
      "Epoch 34/50\n",
      "2166/2166 [==============================] - 0s 107us/sample - loss: 14558865.6187 - mae: 1176.2994 - mse: 14558865.0000\n",
      "Epoch 35/50\n",
      "2166/2166 [==============================] - 0s 95us/sample - loss: 14725361.0674 - mae: 1182.4447 - mse: 14725361.0000\n",
      "Epoch 36/50\n",
      "2166/2166 [==============================] - 0s 115us/sample - loss: 14645086.0641 - mae: 1181.5107 - mse: 14645085.0000\n",
      "Epoch 37/50\n",
      "2166/2166 [==============================] - 0s 145us/sample - loss: 14636640.7149 - mae: 1178.9048 - mse: 14636640.0000\n",
      "Epoch 38/50\n",
      "2166/2166 [==============================] - 0s 108us/sample - loss: 14570995.7622 - mae: 1181.4326 - mse: 14570998.0000\n",
      "Epoch 39/50\n",
      "2166/2166 [==============================] - 0s 211us/sample - loss: 14727280.7740 - mae: 1178.9318 - mse: 14727280.0000\n",
      "Epoch 40/50\n",
      "2166/2166 [==============================] - 0s 178us/sample - loss: 14522021.9081 - mae: 1166.6007 - mse: 14522022.0000\n",
      "Epoch 41/50\n",
      "2166/2166 [==============================] - 0s 185us/sample - loss: 14421269.6316 - mae: 1195.6595 - mse: 14421272.0000\n",
      "Epoch 42/50\n",
      "2166/2166 [==============================] - 0s 174us/sample - loss: 14225922.0803 - mae: 1158.6638 - mse: 14225921.0000\n",
      "Epoch 43/50\n",
      "2166/2166 [==============================] - 1s 235us/sample - loss: 14395400.4419 - mae: 1171.1100 - mse: 14395402.0000\n",
      "Epoch 44/50\n",
      "2166/2166 [==============================] - 0s 142us/sample - loss: 14383792.9239 - mae: 1167.8262 - mse: 14383794.0000\n",
      "Epoch 45/50\n",
      "2166/2166 [==============================] - 0s 123us/sample - loss: 14505855.3513 - mae: 1170.3794 - mse: 14505854.0000\n",
      "Epoch 46/50\n",
      "2166/2166 [==============================] - 0s 134us/sample - loss: 14433573.1232 - mae: 1152.9119 - mse: 14433573.0000\n",
      "Epoch 47/50\n",
      "2166/2166 [==============================] - 0s 119us/sample - loss: 14406951.9638 - mae: 1151.9191 - mse: 14406952.0000\n",
      "Epoch 48/50\n",
      "2166/2166 [==============================] - 0s 157us/sample - loss: 14005574.5032 - mae: 1167.2743 - mse: 14005576.0000\n",
      "Epoch 49/50\n",
      "2166/2166 [==============================] - 0s 166us/sample - loss: 14240574.6304 - mae: 1148.8147 - mse: 14240574.0000\n",
      "Epoch 50/50\n",
      "2166/2166 [==============================] - 0s 141us/sample - loss: 14551471.9100 - mae: 1174.4269 - mse: 14551472.0000\n"
     ]
    }
   ],
   "source": [
    "history = tf_model.fit(X_train, y_train, epochs = 50, verbose = 1)"
   ]
  },
  {
   "cell_type": "code",
   "execution_count": 157,
   "metadata": {},
   "outputs": [
    {
     "data": {
      "text/html": [
       "<div>\n",
       "<style scoped>\n",
       "    .dataframe tbody tr th:only-of-type {\n",
       "        vertical-align: middle;\n",
       "    }\n",
       "\n",
       "    .dataframe tbody tr th {\n",
       "        vertical-align: top;\n",
       "    }\n",
       "\n",
       "    .dataframe thead th {\n",
       "        text-align: right;\n",
       "    }\n",
       "</style>\n",
       "<table border=\"1\" class=\"dataframe\">\n",
       "  <thead>\n",
       "    <tr style=\"text-align: right;\">\n",
       "      <th></th>\n",
       "      <th>loss</th>\n",
       "      <th>mae</th>\n",
       "      <th>mse</th>\n",
       "      <th>epoch</th>\n",
       "    </tr>\n",
       "  </thead>\n",
       "  <tbody>\n",
       "    <tr>\n",
       "      <th>45</th>\n",
       "      <td>1.443357e+07</td>\n",
       "      <td>1152.911865</td>\n",
       "      <td>14433573.0</td>\n",
       "      <td>45</td>\n",
       "    </tr>\n",
       "    <tr>\n",
       "      <th>46</th>\n",
       "      <td>1.440695e+07</td>\n",
       "      <td>1151.919067</td>\n",
       "      <td>14406952.0</td>\n",
       "      <td>46</td>\n",
       "    </tr>\n",
       "    <tr>\n",
       "      <th>47</th>\n",
       "      <td>1.400557e+07</td>\n",
       "      <td>1167.274292</td>\n",
       "      <td>14005576.0</td>\n",
       "      <td>47</td>\n",
       "    </tr>\n",
       "    <tr>\n",
       "      <th>48</th>\n",
       "      <td>1.424057e+07</td>\n",
       "      <td>1148.814697</td>\n",
       "      <td>14240574.0</td>\n",
       "      <td>48</td>\n",
       "    </tr>\n",
       "    <tr>\n",
       "      <th>49</th>\n",
       "      <td>1.455147e+07</td>\n",
       "      <td>1174.426880</td>\n",
       "      <td>14551472.0</td>\n",
       "      <td>49</td>\n",
       "    </tr>\n",
       "  </tbody>\n",
       "</table>\n",
       "</div>"
      ],
      "text/plain": [
       "            loss          mae         mse  epoch\n",
       "45  1.443357e+07  1152.911865  14433573.0     45\n",
       "46  1.440695e+07  1151.919067  14406952.0     46\n",
       "47  1.400557e+07  1167.274292  14005576.0     47\n",
       "48  1.424057e+07  1148.814697  14240574.0     48\n",
       "49  1.455147e+07  1174.426880  14551472.0     49"
      ]
     },
     "execution_count": 157,
     "metadata": {},
     "output_type": "execute_result"
    }
   ],
   "source": [
    "hist = pd.DataFrame(history.history)\n",
    "hist['epoch'] = history.epoch\n",
    "hist.tail()"
   ]
  },
  {
   "cell_type": "code",
   "execution_count": 160,
   "metadata": {},
   "outputs": [],
   "source": [
    "import tensorflow_docs as tfdocs\n",
    "import tensorflow_docs.plots\n",
    "import tensorflow_docs.modeling"
   ]
  },
  {
   "cell_type": "code",
   "execution_count": 161,
   "metadata": {},
   "outputs": [],
   "source": [
    "plotter = tfdocs.plots.HistoryPlotter(smoothing_std = 2)"
   ]
  },
  {
   "cell_type": "code",
   "execution_count": 164,
   "metadata": {},
   "outputs": [
    {
     "ename": "KeyError",
     "evalue": "'val_mae'",
     "output_type": "error",
     "traceback": [
      "\u001b[0;31m---------------------------------------------------------------------------\u001b[0m",
      "\u001b[0;31mKeyError\u001b[0m                                  Traceback (most recent call last)",
      "\u001b[0;32m<ipython-input-164-3c67d80eff3b>\u001b[0m in \u001b[0;36m<module>\u001b[0;34m\u001b[0m\n\u001b[0;32m----> 1\u001b[0;31m \u001b[0mplotter\u001b[0m\u001b[0;34m.\u001b[0m\u001b[0mplot\u001b[0m\u001b[0;34m(\u001b[0m\u001b[0;34m{\u001b[0m\u001b[0;34m'Basic'\u001b[0m\u001b[0;34m:\u001b[0m \u001b[0mhistory\u001b[0m\u001b[0;34m}\u001b[0m\u001b[0;34m,\u001b[0m \u001b[0mmetric\u001b[0m \u001b[0;34m=\u001b[0m \u001b[0;34m'mae'\u001b[0m\u001b[0;34m)\u001b[0m\u001b[0;34m\u001b[0m\u001b[0;34m\u001b[0m\u001b[0m\n\u001b[0m\u001b[1;32m      2\u001b[0m \u001b[0mplt\u001b[0m\u001b[0;34m.\u001b[0m\u001b[0mylim\u001b[0m\u001b[0;34m(\u001b[0m\u001b[0;34m[\u001b[0m\u001b[0;36m0\u001b[0m\u001b[0;34m,\u001b[0m\u001b[0;36m100\u001b[0m\u001b[0;34m]\u001b[0m\u001b[0;34m)\u001b[0m\u001b[0;34m\u001b[0m\u001b[0;34m\u001b[0m\u001b[0m\n\u001b[1;32m      3\u001b[0m \u001b[0mplt\u001b[0m\u001b[0;34m.\u001b[0m\u001b[0mylabel\u001b[0m\u001b[0;34m(\u001b[0m\u001b[0;34m'MAE [Confirmed Cases]'\u001b[0m\u001b[0;34m)\u001b[0m\u001b[0;34m\u001b[0m\u001b[0;34m\u001b[0m\u001b[0m\n",
      "\u001b[0;32m~/anaconda3/lib/python3.7/site-packages/tensorflow_docs/plots/__init__.py\u001b[0m in \u001b[0;36mplot\u001b[0;34m(self, histories, metric, smoothing_std)\u001b[0m\n\u001b[1;32m     87\u001b[0m \u001b[0;34m\u001b[0m\u001b[0m\n\u001b[1;32m     88\u001b[0m       \u001b[0mtrain_value\u001b[0m \u001b[0;34m=\u001b[0m \u001b[0mhistory\u001b[0m\u001b[0;34m.\u001b[0m\u001b[0mhistory\u001b[0m\u001b[0;34m[\u001b[0m\u001b[0mmetric\u001b[0m\u001b[0;34m]\u001b[0m\u001b[0;34m\u001b[0m\u001b[0;34m\u001b[0m\u001b[0m\n\u001b[0;32m---> 89\u001b[0;31m       \u001b[0mval_value\u001b[0m \u001b[0;34m=\u001b[0m \u001b[0mhistory\u001b[0m\u001b[0;34m.\u001b[0m\u001b[0mhistory\u001b[0m\u001b[0;34m[\u001b[0m\u001b[0;34m'val_'\u001b[0m \u001b[0;34m+\u001b[0m \u001b[0mmetric\u001b[0m\u001b[0;34m]\u001b[0m\u001b[0;34m\u001b[0m\u001b[0;34m\u001b[0m\u001b[0m\n\u001b[0m\u001b[1;32m     90\u001b[0m       \u001b[0;32mif\u001b[0m \u001b[0msmoothing_std\u001b[0m \u001b[0;32mis\u001b[0m \u001b[0;32mnot\u001b[0m \u001b[0;32mNone\u001b[0m\u001b[0;34m:\u001b[0m\u001b[0;34m\u001b[0m\u001b[0;34m\u001b[0m\u001b[0m\n\u001b[1;32m     91\u001b[0m         \u001b[0mtrain_value\u001b[0m \u001b[0;34m=\u001b[0m \u001b[0m_smooth\u001b[0m\u001b[0;34m(\u001b[0m\u001b[0mtrain_value\u001b[0m\u001b[0;34m,\u001b[0m \u001b[0mstd\u001b[0m\u001b[0;34m=\u001b[0m\u001b[0msmoothing_std\u001b[0m\u001b[0;34m)\u001b[0m\u001b[0;34m\u001b[0m\u001b[0;34m\u001b[0m\u001b[0m\n",
      "\u001b[0;31mKeyError\u001b[0m: 'val_mae'"
     ]
    }
   ],
   "source": [
    "plotter.plot({'Basic': history}, metric = 'mae')\n",
    "plt.ylim([0,100])\n",
    "plt.ylabel('MAE [Confirmed Cases]')"
   ]
  },
  {
   "cell_type": "code",
   "execution_count": null,
   "metadata": {},
   "outputs": [],
   "source": []
  }
 ],
 "metadata": {
  "kernelspec": {
   "display_name": "Python 3",
   "language": "python",
   "name": "python3"
  },
  "language_info": {
   "codemirror_mode": {
    "name": "ipython",
    "version": 3
   },
   "file_extension": ".py",
   "mimetype": "text/x-python",
   "name": "python",
   "nbconvert_exporter": "python",
   "pygments_lexer": "ipython3",
   "version": "3.7.7"
  }
 },
 "nbformat": 4,
 "nbformat_minor": 4
}
