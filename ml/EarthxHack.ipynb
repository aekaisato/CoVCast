{
 "cells": [
  {
   "cell_type": "code",
   "execution_count": 1,
   "metadata": {},
   "outputs": [],
   "source": [
    "from __future__ import absolute_import, division, print_function, unicode_literals\n",
    "\n",
    "import matplotlib.pyplot as plt\n",
    "import numpy as np\n",
    "import pandas as pd\n",
    "import seaborn as sns"
   ]
  },
  {
   "cell_type": "code",
   "execution_count": 2,
   "metadata": {},
   "outputs": [],
   "source": [
    "import tensorflow as tf\n",
    "from tensorflow import keras\n",
    "from tensorflow.keras import layers"
   ]
  },
  {
   "cell_type": "code",
   "execution_count": 3,
   "metadata": {},
   "outputs": [],
   "source": [
    "data = pd.read_csv('us-states.csv')"
   ]
  },
  {
   "cell_type": "code",
   "execution_count": 4,
   "metadata": {},
   "outputs": [],
   "source": [
    "d = {\n",
    "    'Alabama' : 95,\n",
    "    'Alaska' : 1,\n",
    "    'American Samoa' : 721,\n",
    "    'Arizona' : 60,\n",
    "    'Arkansas' : 57,\n",
    "    'California' : 251,\n",
    "    'Colorado' : 52,\n",
    "    'Connecticut' : 741,\n",
    "    'Delaware' : 485,\n",
    "    'District of Columbia' : 11011,\n",
    "    'Florida' : 378,\n",
    "    'Georgia' : 177,\n",
    "    'Guam' : 808,\n",
    "    'Hawaii' : 222,\n",
    "    'Idaho' : 20,\n",
    "    'Illinois' : 231,\n",
    "    'Indiana' : 184,\n",
    "    'Iowa' : 55,\n",
    "    'Kansas' : 36,\n",
    "    'Kentucky' : 112,\n",
    "    'Louisiana' : 108,\n",
    "    'Maine' : 43,\n",
    "    'Maryland' : 618,\n",
    "    'Massachusetts' : 871,\n",
    "    'Michigan' : 175,\n",
    "    'Minnesota' : 68,\n",
    "    'Mississippi' : 63,\n",
    "    'Missouri' : 88,\n",
    "    'Montana' : 7,\n",
    "    'Nebraska' : 24,\n",
    "    'Nevada' : 26,\n",
    "    'New Hampshire' : 148,\n",
    "    'New Jersey' : 1218,\n",
    "    'New Mexico' : 17,\n",
    "    'New York' : 420,\n",
    "    'North Carolina' : 206,\n",
    "    'North Dakota' : 10,\n",
    "    'Northern Mariana Islands' : 307,\n",
    "    'Ohio' : 284,\n",
    "    'Oklahoma' : 57,\n",
    "    'Oregon' : 41,\n",
    "    'Pennsylvania' : 286,\n",
    "    'Puerto Rico' : 1046,\n",
    "    'Rhode Island' : 1021,\n",
    "    'South Carolina' : 162,\n",
    "    'South Dakota' : 11,\n",
    "    'Tennessee' : 160,\n",
    "    'Texas' : 105,\n",
    "    'Utah' : 36,\n",
    "    'Vermont' : 67,\n",
    "    'Virgin Islands' : 799,\n",
    "    'Virginia' : 212,\n",
    "    'Washington' : 107,\n",
    "    'West Virginia' : 76,\n",
    "    'Wisconsin' : 106,\n",
    "    'Wyoming' : 6\n",
    "}"
   ]
  },
  {
   "cell_type": "code",
   "execution_count": 8,
   "metadata": {},
   "outputs": [],
   "source": [
    "popSeries = pd.Series(d)\n",
    "a = []\n",
    "for x in range(0,2889):\n",
    "    a.append(popSeries[data['state'].iloc[x]])\n",
    "addSeries = pd.Series(a)"
   ]
  },
  {
   "cell_type": "code",
   "execution_count": 10,
   "metadata": {},
   "outputs": [],
   "source": [
    "data = pd.concat([data, addSeries.reindex(data.index)], axis = 1)"
   ]
  },
  {
   "cell_type": "code",
   "execution_count": 13,
   "metadata": {},
   "outputs": [],
   "source": [
    "data.columns = ['date', 'state', 'fips', 'cases', 'deaths', 'pop_density']"
   ]
  },
  {
   "cell_type": "code",
   "execution_count": 14,
   "metadata": {},
   "outputs": [
    {
     "data": {
      "text/html": [
       "<div>\n",
       "<style scoped>\n",
       "    .dataframe tbody tr th:only-of-type {\n",
       "        vertical-align: middle;\n",
       "    }\n",
       "\n",
       "    .dataframe tbody tr th {\n",
       "        vertical-align: top;\n",
       "    }\n",
       "\n",
       "    .dataframe thead th {\n",
       "        text-align: right;\n",
       "    }\n",
       "</style>\n",
       "<table border=\"1\" class=\"dataframe\">\n",
       "  <thead>\n",
       "    <tr style=\"text-align: right;\">\n",
       "      <th></th>\n",
       "      <th>date</th>\n",
       "      <th>state</th>\n",
       "      <th>fips</th>\n",
       "      <th>cases</th>\n",
       "      <th>deaths</th>\n",
       "      <th>pop_density</th>\n",
       "    </tr>\n",
       "  </thead>\n",
       "  <tbody>\n",
       "    <tr>\n",
       "      <th>0</th>\n",
       "      <td>2020-01-21</td>\n",
       "      <td>Washington</td>\n",
       "      <td>53</td>\n",
       "      <td>1</td>\n",
       "      <td>0</td>\n",
       "      <td>107</td>\n",
       "    </tr>\n",
       "    <tr>\n",
       "      <th>1</th>\n",
       "      <td>2020-01-22</td>\n",
       "      <td>Washington</td>\n",
       "      <td>53</td>\n",
       "      <td>1</td>\n",
       "      <td>0</td>\n",
       "      <td>107</td>\n",
       "    </tr>\n",
       "    <tr>\n",
       "      <th>2</th>\n",
       "      <td>2020-01-23</td>\n",
       "      <td>Washington</td>\n",
       "      <td>53</td>\n",
       "      <td>1</td>\n",
       "      <td>0</td>\n",
       "      <td>107</td>\n",
       "    </tr>\n",
       "    <tr>\n",
       "      <th>3</th>\n",
       "      <td>2020-01-24</td>\n",
       "      <td>Illinois</td>\n",
       "      <td>17</td>\n",
       "      <td>1</td>\n",
       "      <td>0</td>\n",
       "      <td>231</td>\n",
       "    </tr>\n",
       "    <tr>\n",
       "      <th>4</th>\n",
       "      <td>2020-01-24</td>\n",
       "      <td>Washington</td>\n",
       "      <td>53</td>\n",
       "      <td>1</td>\n",
       "      <td>0</td>\n",
       "      <td>107</td>\n",
       "    </tr>\n",
       "  </tbody>\n",
       "</table>\n",
       "</div>"
      ],
      "text/plain": [
       "         date       state  fips  cases  deaths  pop_density\n",
       "0  2020-01-21  Washington    53      1       0          107\n",
       "1  2020-01-22  Washington    53      1       0          107\n",
       "2  2020-01-23  Washington    53      1       0          107\n",
       "3  2020-01-24    Illinois    17      1       0          231\n",
       "4  2020-01-24  Washington    53      1       0          107"
      ]
     },
     "execution_count": 14,
     "metadata": {},
     "output_type": "execute_result"
    }
   ],
   "source": [
    "data.head()"
   ]
  },
  {
   "cell_type": "code",
   "execution_count": 15,
   "metadata": {},
   "outputs": [
    {
     "data": {
      "text/plain": [
       "(2889, 6)"
      ]
     },
     "execution_count": 15,
     "metadata": {},
     "output_type": "execute_result"
    }
   ],
   "source": [
    "data.shape"
   ]
  },
  {
   "cell_type": "code",
   "execution_count": 19,
   "metadata": {},
   "outputs": [],
   "source": [
    "import datetime as dt "
   ]
  },
  {
   "cell_type": "code",
   "execution_count": 21,
   "metadata": {},
   "outputs": [
    {
     "name": "stderr",
     "output_type": "stream",
     "text": [
      "/home/justin/anaconda3/lib/python3.7/site-packages/ipykernel_launcher.py:9: SettingWithCopyWarning: \n",
      "A value is trying to be set on a copy of a slice from a DataFrame\n",
      "\n",
      "See the caveats in the documentation: https://pandas.pydata.org/pandas-docs/stable/user_guide/indexing.html#returning-a-view-versus-a-copy\n",
      "  if __name__ == '__main__':\n"
     ]
    }
   ],
   "source": [
    "#label encoder for dates\n",
    "def scrub_date(date1):\n",
    "    date_parts = date1.split('-')\n",
    "    f_date = dt.date(int(date_parts[0]), int(date_parts[1]), int(date_parts[2]))\n",
    "    delta = f_date - dt.date(2020, 1, 21)\n",
    "    return delta.days\n",
    "\n",
    "for i in range(len(data['date'])):\n",
    "    data['date'][i] = scrub_date(data['date'][i])"
   ]
  },
  {
   "cell_type": "code",
   "execution_count": 22,
   "metadata": {},
   "outputs": [
    {
     "name": "stderr",
     "output_type": "stream",
     "text": [
      "/home/justin/anaconda3/lib/python3.7/site-packages/ipykernel_launcher.py:9: SettingWithCopyWarning: \n",
      "A value is trying to be set on a copy of a slice from a DataFrame\n",
      "\n",
      "See the caveats in the documentation: https://pandas.pydata.org/pandas-docs/stable/user_guide/indexing.html#returning-a-view-versus-a-copy\n",
      "  if __name__ == '__main__':\n",
      "/home/justin/anaconda3/lib/python3.7/site-packages/ipykernel_launcher.py:11: SettingWithCopyWarning: \n",
      "A value is trying to be set on a copy of a slice from a DataFrame\n",
      "\n",
      "See the caveats in the documentation: https://pandas.pydata.org/pandas-docs/stable/user_guide/indexing.html#returning-a-view-versus-a-copy\n",
      "  # This is added back by InteractiveShellApp.init_path()\n"
     ]
    }
   ],
   "source": [
    "#label encoder for state\n",
    "id = 1\n",
    "state_dict = {}\n",
    "for i in range(len(data['state'])):\n",
    "    state = data['state'][i]\n",
    "    if state not in state_dict:\n",
    "        state_dict[state] = id\n",
    "        id += 1\n",
    "        data['state'][i] = state_dict[state]\n",
    "    else:\n",
    "        data['state'][i] = state_dict[state]\n",
    "        "
   ]
  },
  {
   "cell_type": "code",
   "execution_count": 23,
   "metadata": {},
   "outputs": [],
   "source": [
    "data = data.drop('fips', axis = 1)"
   ]
  },
  {
   "cell_type": "code",
   "execution_count": 24,
   "metadata": {},
   "outputs": [],
   "source": [
    "y = data.cases\n",
    "X = data.drop('cases', axis = 1)"
   ]
  },
  {
   "cell_type": "code",
   "execution_count": 25,
   "metadata": {},
   "outputs": [
    {
     "data": {
      "text/html": [
       "<div>\n",
       "<style scoped>\n",
       "    .dataframe tbody tr th:only-of-type {\n",
       "        vertical-align: middle;\n",
       "    }\n",
       "\n",
       "    .dataframe tbody tr th {\n",
       "        vertical-align: top;\n",
       "    }\n",
       "\n",
       "    .dataframe thead th {\n",
       "        text-align: right;\n",
       "    }\n",
       "</style>\n",
       "<table border=\"1\" class=\"dataframe\">\n",
       "  <thead>\n",
       "    <tr style=\"text-align: right;\">\n",
       "      <th></th>\n",
       "      <th>date</th>\n",
       "      <th>state</th>\n",
       "      <th>cases</th>\n",
       "      <th>deaths</th>\n",
       "      <th>pop_density</th>\n",
       "    </tr>\n",
       "  </thead>\n",
       "  <tbody>\n",
       "    <tr>\n",
       "      <th>0</th>\n",
       "      <td>0</td>\n",
       "      <td>1</td>\n",
       "      <td>1</td>\n",
       "      <td>0</td>\n",
       "      <td>107</td>\n",
       "    </tr>\n",
       "    <tr>\n",
       "      <th>1</th>\n",
       "      <td>1</td>\n",
       "      <td>1</td>\n",
       "      <td>1</td>\n",
       "      <td>0</td>\n",
       "      <td>107</td>\n",
       "    </tr>\n",
       "    <tr>\n",
       "      <th>2</th>\n",
       "      <td>2</td>\n",
       "      <td>1</td>\n",
       "      <td>1</td>\n",
       "      <td>0</td>\n",
       "      <td>107</td>\n",
       "    </tr>\n",
       "    <tr>\n",
       "      <th>3</th>\n",
       "      <td>3</td>\n",
       "      <td>2</td>\n",
       "      <td>1</td>\n",
       "      <td>0</td>\n",
       "      <td>231</td>\n",
       "    </tr>\n",
       "    <tr>\n",
       "      <th>4</th>\n",
       "      <td>3</td>\n",
       "      <td>1</td>\n",
       "      <td>1</td>\n",
       "      <td>0</td>\n",
       "      <td>107</td>\n",
       "    </tr>\n",
       "    <tr>\n",
       "      <th>...</th>\n",
       "      <td>...</td>\n",
       "      <td>...</td>\n",
       "      <td>...</td>\n",
       "      <td>...</td>\n",
       "      <td>...</td>\n",
       "    </tr>\n",
       "    <tr>\n",
       "      <th>2884</th>\n",
       "      <td>93</td>\n",
       "      <td>33</td>\n",
       "      <td>11000</td>\n",
       "      <td>375</td>\n",
       "      <td>212</td>\n",
       "    </tr>\n",
       "    <tr>\n",
       "      <th>2885</th>\n",
       "      <td>93</td>\n",
       "      <td>1</td>\n",
       "      <td>12906</td>\n",
       "      <td>717</td>\n",
       "      <td>107</td>\n",
       "    </tr>\n",
       "    <tr>\n",
       "      <th>2886</th>\n",
       "      <td>93</td>\n",
       "      <td>54</td>\n",
       "      <td>981</td>\n",
       "      <td>31</td>\n",
       "      <td>76</td>\n",
       "    </tr>\n",
       "    <tr>\n",
       "      <th>2887</th>\n",
       "      <td>93</td>\n",
       "      <td>6</td>\n",
       "      <td>5052</td>\n",
       "      <td>257</td>\n",
       "      <td>106</td>\n",
       "    </tr>\n",
       "    <tr>\n",
       "      <th>2888</th>\n",
       "      <td>93</td>\n",
       "      <td>45</td>\n",
       "      <td>332</td>\n",
       "      <td>7</td>\n",
       "      <td>6</td>\n",
       "    </tr>\n",
       "  </tbody>\n",
       "</table>\n",
       "<p>2889 rows × 5 columns</p>\n",
       "</div>"
      ],
      "text/plain": [
       "     date state  cases  deaths  pop_density\n",
       "0       0     1      1       0          107\n",
       "1       1     1      1       0          107\n",
       "2       2     1      1       0          107\n",
       "3       3     2      1       0          231\n",
       "4       3     1      1       0          107\n",
       "...   ...   ...    ...     ...          ...\n",
       "2884   93    33  11000     375          212\n",
       "2885   93     1  12906     717          107\n",
       "2886   93    54    981      31           76\n",
       "2887   93     6   5052     257          106\n",
       "2888   93    45    332       7            6\n",
       "\n",
       "[2889 rows x 5 columns]"
      ]
     },
     "execution_count": 25,
     "metadata": {},
     "output_type": "execute_result"
    }
   ],
   "source": [
    "data"
   ]
  },
  {
   "cell_type": "code",
   "execution_count": 26,
   "metadata": {},
   "outputs": [],
   "source": [
    "from sklearn.model_selection import train_test_split\n",
    "\n",
    "X_train, X_valid, y_train, y_valid = train_test_split(X, y)"
   ]
  },
  {
   "cell_type": "code",
   "execution_count": 27,
   "metadata": {},
   "outputs": [],
   "source": [
    "from sklearn.ensemble import RandomForestRegressor"
   ]
  },
  {
   "cell_type": "code",
   "execution_count": 28,
   "metadata": {},
   "outputs": [
    {
     "data": {
      "text/plain": [
       "RandomForestRegressor(bootstrap=True, ccp_alpha=0.0, criterion='mse',\n",
       "                      max_depth=None, max_features='auto', max_leaf_nodes=None,\n",
       "                      max_samples=None, min_impurity_decrease=0.0,\n",
       "                      min_impurity_split=None, min_samples_leaf=1,\n",
       "                      min_samples_split=2, min_weight_fraction_leaf=0.0,\n",
       "                      n_estimators=100, n_jobs=None, oob_score=False,\n",
       "                      random_state=1, verbose=0, warm_start=False)"
      ]
     },
     "execution_count": 28,
     "metadata": {},
     "output_type": "execute_result"
    }
   ],
   "source": [
    "model = RandomForestRegressor(n_estimators = 100, random_state = 1)\n",
    "model.fit(X_train, y_train)"
   ]
  },
  {
   "cell_type": "code",
   "execution_count": 29,
   "metadata": {},
   "outputs": [],
   "source": [
    "preds = model.predict(X_valid)"
   ]
  },
  {
   "cell_type": "code",
   "execution_count": 30,
   "metadata": {},
   "outputs": [],
   "source": [
    "from sklearn.metrics import mean_absolute_error\n",
    "\n",
    "mae = mean_absolute_error(y_valid, preds)"
   ]
  },
  {
   "cell_type": "code",
   "execution_count": 31,
   "metadata": {},
   "outputs": [
    {
     "data": {
      "text/plain": [
       "437.62307053941896"
      ]
     },
     "execution_count": 31,
     "metadata": {},
     "output_type": "execute_result"
    }
   ],
   "source": [
    "mae"
   ]
  },
  {
   "cell_type": "code",
   "execution_count": 32,
   "metadata": {},
   "outputs": [
    {
     "data": {
      "text/html": [
       "<div>\n",
       "<style scoped>\n",
       "    .dataframe tbody tr th:only-of-type {\n",
       "        vertical-align: middle;\n",
       "    }\n",
       "\n",
       "    .dataframe tbody tr th {\n",
       "        vertical-align: top;\n",
       "    }\n",
       "\n",
       "    .dataframe thead th {\n",
       "        text-align: right;\n",
       "    }\n",
       "</style>\n",
       "<table border=\"1\" class=\"dataframe\">\n",
       "  <thead>\n",
       "    <tr style=\"text-align: right;\">\n",
       "      <th></th>\n",
       "      <th>cases</th>\n",
       "      <th>deaths</th>\n",
       "      <th>pop_density</th>\n",
       "    </tr>\n",
       "  </thead>\n",
       "  <tbody>\n",
       "    <tr>\n",
       "      <th>count</th>\n",
       "      <td>2889.000000</td>\n",
       "      <td>2889.00000</td>\n",
       "      <td>2889.000000</td>\n",
       "    </tr>\n",
       "    <tr>\n",
       "      <th>mean</th>\n",
       "      <td>4734.918311</td>\n",
       "      <td>190.28972</td>\n",
       "      <td>420.761855</td>\n",
       "    </tr>\n",
       "    <tr>\n",
       "      <th>std</th>\n",
       "      <td>18762.852274</td>\n",
       "      <td>967.45956</td>\n",
       "      <td>1407.884868</td>\n",
       "    </tr>\n",
       "    <tr>\n",
       "      <th>min</th>\n",
       "      <td>0.000000</td>\n",
       "      <td>0.00000</td>\n",
       "      <td>1.000000</td>\n",
       "    </tr>\n",
       "    <tr>\n",
       "      <th>25%</th>\n",
       "      <td>19.000000</td>\n",
       "      <td>0.00000</td>\n",
       "      <td>55.000000</td>\n",
       "    </tr>\n",
       "    <tr>\n",
       "      <th>50%</th>\n",
       "      <td>365.000000</td>\n",
       "      <td>6.00000</td>\n",
       "      <td>108.000000</td>\n",
       "    </tr>\n",
       "    <tr>\n",
       "      <th>75%</th>\n",
       "      <td>2331.000000</td>\n",
       "      <td>63.00000</td>\n",
       "      <td>284.000000</td>\n",
       "    </tr>\n",
       "    <tr>\n",
       "      <th>max</th>\n",
       "      <td>263460.000000</td>\n",
       "      <td>15740.00000</td>\n",
       "      <td>11011.000000</td>\n",
       "    </tr>\n",
       "  </tbody>\n",
       "</table>\n",
       "</div>"
      ],
      "text/plain": [
       "               cases       deaths   pop_density\n",
       "count    2889.000000   2889.00000   2889.000000\n",
       "mean     4734.918311    190.28972    420.761855\n",
       "std     18762.852274    967.45956   1407.884868\n",
       "min         0.000000      0.00000      1.000000\n",
       "25%        19.000000      0.00000     55.000000\n",
       "50%       365.000000      6.00000    108.000000\n",
       "75%      2331.000000     63.00000    284.000000\n",
       "max    263460.000000  15740.00000  11011.000000"
      ]
     },
     "execution_count": 32,
     "metadata": {},
     "output_type": "execute_result"
    }
   ],
   "source": [
    "data.describe()"
   ]
  },
  {
   "cell_type": "code",
   "execution_count": 46,
   "metadata": {},
   "outputs": [],
   "source": [
    "import tensorflow_probability as tfp\n",
    "\n",
    "tfd = tfp.distributions"
   ]
  },
  {
   "cell_type": "code",
   "execution_count": 57,
   "metadata": {},
   "outputs": [
    {
     "name": "stdout",
     "output_type": "stream",
     "text": [
      "Model: \"sequential_8\"\n",
      "_________________________________________________________________\n",
      "Layer (type)                 Output Shape              Param #   \n",
      "=================================================================\n",
      "dense_19 (Dense)             (None, 64)                320       \n",
      "_________________________________________________________________\n",
      "dense_20 (Dense)             (None, 64)                4160      \n",
      "_________________________________________________________________\n",
      "dense_21 (Dense)             (None, 64)                4160      \n",
      "_________________________________________________________________\n",
      "distribution_lambda_6 (Distr ((None, 64), (None, 64))  0         \n",
      "_________________________________________________________________\n",
      "dense_22 (Dense)             (None, 1)                 65        \n",
      "=================================================================\n",
      "Total params: 8,705\n",
      "Trainable params: 8,705\n",
      "Non-trainable params: 0\n",
      "_________________________________________________________________\n"
     ]
    }
   ],
   "source": [
    "def build_tf_model():\n",
    "    model = keras.Sequential([\n",
    "        layers.Dense(64, activation = 'relu', input_shape=[len(X_train.keys())]),\n",
    "        layers.Dense(64, activation = 'relu'),\n",
    "        layers.Dense(64, activation = 'relu'),\n",
    "        tfp.layers.DistributionLambda(lambda t: tfd.Normal(loc=t, scale=1)),\n",
    "        layers.Dense(1)\n",
    "    ])\n",
    "    \n",
    "    #optimizer = tf.keras.optimizers.RMSprop(0.001)\n",
    "    optimizer = tf.keras.optimizers.Adam(learning_rate = 0.001)\n",
    "    \n",
    "    model.compile(loss = 'mse', optimizer = optimizer, metrics = ['mae', 'mse'])\n",
    "    \n",
    "    return model \n",
    "\n",
    "tf_model = build_tf_model()\n",
    "\n",
    "tf_model.summary()"
   ]
  },
  {
   "cell_type": "code",
   "execution_count": 58,
   "metadata": {},
   "outputs": [
    {
     "name": "stdout",
     "output_type": "stream",
     "text": [
      "WARNING:tensorflow:Falling back from v2 loop because of error: Failed to find data adapter that can handle input: <class 'pandas.core.frame.DataFrame'>, <class 'NoneType'>\n",
      "Train on 2166 samples\n",
      "Epoch 1/20\n",
      "2166/2166 [==============================] - 0s 224us/sample - loss: 294266396.7572 - mae: 4272.0093 - mse: 294266400.0000\n",
      "Epoch 2/20\n",
      "2166/2166 [==============================] - 0s 114us/sample - loss: 106003172.5199 - mae: 2851.6995 - mse: 106003168.0000\n",
      "Epoch 3/20\n",
      "2166/2166 [==============================] - 0s 159us/sample - loss: 13745705.9557 - mae: 1373.3236 - mse: 13745707.0000\n",
      "Epoch 4/20\n",
      "2166/2166 [==============================] - 0s 126us/sample - loss: 12394088.6400 - mae: 1088.8829 - mse: 12394088.0000\n",
      "Epoch 5/20\n",
      "2166/2166 [==============================] - 0s 144us/sample - loss: 12139752.1010 - mae: 1046.4485 - mse: 12139755.0000\n",
      "Epoch 6/20\n",
      "2166/2166 [==============================] - ETA: 0s - loss: 10612494.5754 - mae: 1025.9148 - mse: 10612495.00 - 0s 153us/sample - loss: 12233326.0665 - mae: 1069.1588 - mse: 12233326.0000\n",
      "Epoch 7/20\n",
      "2166/2166 [==============================] - 0s 171us/sample - loss: 12418995.9638 - mae: 1069.2523 - mse: 12418995.0000\n",
      "Epoch 8/20\n",
      "2166/2166 [==============================] - 0s 150us/sample - loss: 11657552.0759 - mae: 1049.9036 - mse: 11657549.0000\n",
      "Epoch 9/20\n",
      "2166/2166 [==============================] - 0s 169us/sample - loss: 12031359.6371 - mae: 1059.2135 - mse: 12031361.0000\n",
      "Epoch 10/20\n",
      "2166/2166 [==============================] - 0s 164us/sample - loss: 11303059.6214 - mae: 1032.6412 - mse: 11303060.0000\n",
      "Epoch 11/20\n",
      "2166/2166 [==============================] - 0s 125us/sample - loss: 11817229.7255 - mae: 1042.4648 - mse: 11817232.0000\n",
      "Epoch 12/20\n",
      "2166/2166 [==============================] - 0s 151us/sample - loss: 11683225.0930 - mae: 1061.2466 - mse: 11683226.0000\n",
      "Epoch 13/20\n",
      "2166/2166 [==============================] - 0s 156us/sample - loss: 11556425.4511 - mae: 1034.9395 - mse: 11556427.0000\n",
      "Epoch 14/20\n",
      "2166/2166 [==============================] - 0s 131us/sample - loss: 11417374.2348 - mae: 1034.8667 - mse: 11417376.0000\n",
      "Epoch 15/20\n",
      "2166/2166 [==============================] - 0s 153us/sample - loss: 11827295.6692 - mae: 1075.4441 - mse: 11827294.0000\n",
      "Epoch 16/20\n",
      "2166/2166 [==============================] - 0s 178us/sample - loss: 11314995.8790 - mae: 1025.0818 - mse: 11314995.0000\n",
      "Epoch 17/20\n",
      "2166/2166 [==============================] - 0s 151us/sample - loss: 11550210.1124 - mae: 1018.2855 - mse: 11550208.0000\n",
      "Epoch 18/20\n",
      "2166/2166 [==============================] - 0s 211us/sample - loss: 11343499.1549 - mae: 1051.2683 - mse: 11343497.0000\n",
      "Epoch 19/20\n",
      "2166/2166 [==============================] - 0s 147us/sample - loss: 11504912.8555 - mae: 1044.9226 - mse: 11504910.0000\n",
      "Epoch 20/20\n",
      "2166/2166 [==============================] - 0s 173us/sample - loss: 12183526.8030 - mae: 1061.2302 - mse: 12183527.0000\n"
     ]
    }
   ],
   "source": [
    "history = tf_model.fit(X_train, y_train, epochs = 20, verbose = 1)"
   ]
  },
  {
   "cell_type": "code",
   "execution_count": 43,
   "metadata": {},
   "outputs": [
    {
     "data": {
      "text/html": [
       "<div>\n",
       "<style scoped>\n",
       "    .dataframe tbody tr th:only-of-type {\n",
       "        vertical-align: middle;\n",
       "    }\n",
       "\n",
       "    .dataframe tbody tr th {\n",
       "        vertical-align: top;\n",
       "    }\n",
       "\n",
       "    .dataframe thead th {\n",
       "        text-align: right;\n",
       "    }\n",
       "</style>\n",
       "<table border=\"1\" class=\"dataframe\">\n",
       "  <thead>\n",
       "    <tr style=\"text-align: right;\">\n",
       "      <th></th>\n",
       "      <th>loss</th>\n",
       "      <th>mae</th>\n",
       "      <th>mse</th>\n",
       "      <th>epoch</th>\n",
       "    </tr>\n",
       "  </thead>\n",
       "  <tbody>\n",
       "    <tr>\n",
       "      <th>45</th>\n",
       "      <td>1.127258e+07</td>\n",
       "      <td>1053.259644</td>\n",
       "      <td>11272579.0</td>\n",
       "      <td>45</td>\n",
       "    </tr>\n",
       "    <tr>\n",
       "      <th>46</th>\n",
       "      <td>1.122976e+07</td>\n",
       "      <td>1052.183228</td>\n",
       "      <td>11229759.0</td>\n",
       "      <td>46</td>\n",
       "    </tr>\n",
       "    <tr>\n",
       "      <th>47</th>\n",
       "      <td>1.146790e+07</td>\n",
       "      <td>1067.820923</td>\n",
       "      <td>11467904.0</td>\n",
       "      <td>47</td>\n",
       "    </tr>\n",
       "    <tr>\n",
       "      <th>48</th>\n",
       "      <td>1.092086e+07</td>\n",
       "      <td>1032.137573</td>\n",
       "      <td>10920861.0</td>\n",
       "      <td>48</td>\n",
       "    </tr>\n",
       "    <tr>\n",
       "      <th>49</th>\n",
       "      <td>1.211319e+07</td>\n",
       "      <td>1117.964111</td>\n",
       "      <td>12113184.0</td>\n",
       "      <td>49</td>\n",
       "    </tr>\n",
       "  </tbody>\n",
       "</table>\n",
       "</div>"
      ],
      "text/plain": [
       "            loss          mae         mse  epoch\n",
       "45  1.127258e+07  1053.259644  11272579.0     45\n",
       "46  1.122976e+07  1052.183228  11229759.0     46\n",
       "47  1.146790e+07  1067.820923  11467904.0     47\n",
       "48  1.092086e+07  1032.137573  10920861.0     48\n",
       "49  1.211319e+07  1117.964111  12113184.0     49"
      ]
     },
     "execution_count": 43,
     "metadata": {},
     "output_type": "execute_result"
    }
   ],
   "source": [
    "hist = pd.DataFrame(history.history)\n",
    "hist['epoch'] = history.epoch\n",
    "hist.tail()"
   ]
  },
  {
   "cell_type": "code",
   "execution_count": 36,
   "metadata": {},
   "outputs": [],
   "source": [
    "import tensorflow_docs as tfdocs\n",
    "import tensorflow_docs.plots\n",
    "import tensorflow_docs.modeling"
   ]
  },
  {
   "cell_type": "code",
   "execution_count": 37,
   "metadata": {},
   "outputs": [],
   "source": [
    "plotter = tfdocs.plots.HistoryPlotter(smoothing_std = 2)"
   ]
  },
  {
   "cell_type": "code",
   "execution_count": 39,
   "metadata": {},
   "outputs": [
    {
     "ename": "KeyError",
     "evalue": "'val_mae'",
     "output_type": "error",
     "traceback": [
      "\u001b[0;31m---------------------------------------------------------------------------\u001b[0m",
      "\u001b[0;31mKeyError\u001b[0m                                  Traceback (most recent call last)",
      "\u001b[0;32m<ipython-input-39-51830d87ac80>\u001b[0m in \u001b[0;36m<module>\u001b[0;34m\u001b[0m\n\u001b[0;32m----> 1\u001b[0;31m \u001b[0mplotter\u001b[0m\u001b[0;34m.\u001b[0m\u001b[0mplot\u001b[0m\u001b[0;34m(\u001b[0m\u001b[0;34m{\u001b[0m\u001b[0;34m'Basic'\u001b[0m\u001b[0;34m:\u001b[0m \u001b[0mhistory\u001b[0m\u001b[0;34m}\u001b[0m\u001b[0;34m,\u001b[0m \u001b[0mmetric\u001b[0m \u001b[0;34m=\u001b[0m \u001b[0;34m\"mae\"\u001b[0m\u001b[0;34m)\u001b[0m\u001b[0;34m\u001b[0m\u001b[0;34m\u001b[0m\u001b[0m\n\u001b[0m\u001b[1;32m      2\u001b[0m \u001b[0mplt\u001b[0m\u001b[0;34m.\u001b[0m\u001b[0mylabel\u001b[0m\u001b[0;34m(\u001b[0m\u001b[0;34m'MAE [Confirmed Cases]'\u001b[0m\u001b[0;34m)\u001b[0m\u001b[0;34m\u001b[0m\u001b[0;34m\u001b[0m\u001b[0m\n",
      "\u001b[0;32m~/anaconda3/lib/python3.7/site-packages/tensorflow_docs/plots/__init__.py\u001b[0m in \u001b[0;36mplot\u001b[0;34m(self, histories, metric, smoothing_std)\u001b[0m\n\u001b[1;32m     87\u001b[0m \u001b[0;34m\u001b[0m\u001b[0m\n\u001b[1;32m     88\u001b[0m       \u001b[0mtrain_value\u001b[0m \u001b[0;34m=\u001b[0m \u001b[0mhistory\u001b[0m\u001b[0;34m.\u001b[0m\u001b[0mhistory\u001b[0m\u001b[0;34m[\u001b[0m\u001b[0mmetric\u001b[0m\u001b[0;34m]\u001b[0m\u001b[0;34m\u001b[0m\u001b[0;34m\u001b[0m\u001b[0m\n\u001b[0;32m---> 89\u001b[0;31m       \u001b[0mval_value\u001b[0m \u001b[0;34m=\u001b[0m \u001b[0mhistory\u001b[0m\u001b[0;34m.\u001b[0m\u001b[0mhistory\u001b[0m\u001b[0;34m[\u001b[0m\u001b[0;34m'val_'\u001b[0m \u001b[0;34m+\u001b[0m \u001b[0mmetric\u001b[0m\u001b[0;34m]\u001b[0m\u001b[0;34m\u001b[0m\u001b[0;34m\u001b[0m\u001b[0m\n\u001b[0m\u001b[1;32m     90\u001b[0m       \u001b[0;32mif\u001b[0m \u001b[0msmoothing_std\u001b[0m \u001b[0;32mis\u001b[0m \u001b[0;32mnot\u001b[0m \u001b[0;32mNone\u001b[0m\u001b[0;34m:\u001b[0m\u001b[0;34m\u001b[0m\u001b[0;34m\u001b[0m\u001b[0m\n\u001b[1;32m     91\u001b[0m         \u001b[0mtrain_value\u001b[0m \u001b[0;34m=\u001b[0m \u001b[0m_smooth\u001b[0m\u001b[0;34m(\u001b[0m\u001b[0mtrain_value\u001b[0m\u001b[0;34m,\u001b[0m \u001b[0mstd\u001b[0m\u001b[0;34m=\u001b[0m\u001b[0msmoothing_std\u001b[0m\u001b[0;34m)\u001b[0m\u001b[0;34m\u001b[0m\u001b[0;34m\u001b[0m\u001b[0m\n",
      "\u001b[0;31mKeyError\u001b[0m: 'val_mae'"
     ]
    }
   ],
   "source": [
    "plotter.plot({'Basic': history}, metric = \"mae\")\n",
    "plt.ylabel('MAE [Confirmed Cases]')"
   ]
  },
  {
   "cell_type": "code",
   "execution_count": null,
   "metadata": {},
   "outputs": [],
   "source": []
  }
 ],
 "metadata": {
  "kernelspec": {
   "display_name": "Python 3",
   "language": "python",
   "name": "python3"
  },
  "language_info": {
   "codemirror_mode": {
    "name": "ipython",
    "version": 3
   },
   "file_extension": ".py",
   "mimetype": "text/x-python",
   "name": "python",
   "nbconvert_exporter": "python",
   "pygments_lexer": "ipython3",
   "version": "3.7.7"
  }
 },
 "nbformat": 4,
 "nbformat_minor": 4
}
